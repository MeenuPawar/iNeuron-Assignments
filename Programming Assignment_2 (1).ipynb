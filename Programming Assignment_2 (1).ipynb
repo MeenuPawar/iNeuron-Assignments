{
 "cells": [
  {
   "cell_type": "markdown",
   "id": "08c66ea5",
   "metadata": {},
   "source": [
    "## Programming Assignment_2\n",
    "-------------"
   ]
  },
  {
   "cell_type": "markdown",
   "id": "4e50cf42",
   "metadata": {},
   "source": [
    "### 1. Write a Python program to convert kilometers to miles?\n"
   ]
  },
  {
   "cell_type": "code",
   "execution_count": 1,
   "id": "50d3ee89",
   "metadata": {},
   "outputs": [
    {
     "name": "stdout",
     "output_type": "stream",
     "text": [
      "Enter distance into KM1\n",
      "Distance in meters 1000\n"
     ]
    }
   ],
   "source": [
    "dKM= int(input(\"Enter distance into KM\"))\n",
    "dM= dKM *1000\n",
    "print(\"Distance in meters\",dM)\n"
   ]
  },
  {
   "cell_type": "markdown",
   "id": "0df4e6bf",
   "metadata": {},
   "source": [
    "### 2.Write a Python program to convert Celsius to Fahrenheit?"
   ]
  },
  {
   "cell_type": "code",
   "execution_count": 4,
   "id": "93fdf87e",
   "metadata": {},
   "outputs": [
    {
     "name": "stdout",
     "output_type": "stream",
     "text": [
      "Enter Temp in Celsius0\n",
      "temp in Fahrenheit 32.0\n"
     ]
    }
   ],
   "source": [
    "C= int(input(\"Enter Temp in Celsius\"))\n",
    "F= ( C*1.8 )+32\n",
    "print(\"temp in Fahrenheit\",F)"
   ]
  },
  {
   "cell_type": "markdown",
   "id": "46129b8e",
   "metadata": {},
   "source": [
    "### 3. Write a Python program to display calendar?\n"
   ]
  },
  {
   "cell_type": "code",
   "execution_count": 5,
   "id": "527f79ed",
   "metadata": {},
   "outputs": [
    {
     "name": "stdout",
     "output_type": "stream",
     "text": [
      "Enter year2022\n",
      "Enter month8\n",
      "    August 2022\n",
      "Mo Tu We Th Fr Sa Su\n",
      " 1  2  3  4  5  6  7\n",
      " 8  9 10 11 12 13 14\n",
      "15 16 17 18 19 20 21\n",
      "22 23 24 25 26 27 28\n",
      "29 30 31\n",
      "\n"
     ]
    }
   ],
   "source": [
    "import calendar\n",
    "YY= int(input(\"Enter year\"))\n",
    "m= int(input(\"Enter month\"))\n",
    "\n",
    "print(calendar.month(YY,m))"
   ]
  },
  {
   "cell_type": "markdown",
   "id": "db2bf0f7",
   "metadata": {},
   "source": [
    "### 4. Write a Python program to solve quadratic equation?"
   ]
  },
  {
   "cell_type": "code",
   "execution_count": 16,
   "id": "4be11d75",
   "metadata": {
    "scrolled": true
   },
   "outputs": [
    {
     "name": "stdout",
     "output_type": "stream",
     "text": [
      "Enter a 4\n",
      "Enter b 3\n",
      "Enter c 2\n",
      "Quadratic Equation: 4x^2 + 3x + 2\n",
      "Complex Roots\n",
      "-0.375  + i 4.795831523312719\n",
      "-0.375  - i 4.795831523312719\n"
     ]
    }
   ],
   "source": [
    "import math\n",
    "\n",
    "a = int(input(\"Enter a \"))\n",
    "b = int(input(\"Enter b \"))\n",
    "c = int(input(\"Enter c \"))\n",
    "print(\"Quadratic Equation: {}x^2 + {}x + {}\".format(a,b,c))\n",
    "\n",
    "y1 = (b*b)-(4*a*c)\n",
    "y = math.sqrt(abs(y1))\n",
    "\n",
    "if y1 > 0: \n",
    "    print(\"real and different roots \") \n",
    "    print((-b + y)/(2 * a)) \n",
    "    print((-b - y)/(2 * a)) \n",
    "elif y1 == 0: \n",
    "    print(\" real and same roots\") \n",
    "    print(-y / (2 * a)) \n",
    "else:\n",
    "    print(\"Complex Roots\") \n",
    "    print(- b / (2 * a), \" + i\", y) \n",
    "    print(- b / (2 * a), \" - i\", y)"
   ]
  },
  {
   "cell_type": "markdown",
   "id": "f70f74c9",
   "metadata": {},
   "source": [
    "### 5. Write a Python program to swap two variables without temp variable?"
   ]
  },
  {
   "cell_type": "code",
   "execution_count": 17,
   "id": "df65f30c",
   "metadata": {},
   "outputs": [
    {
     "name": "stdout",
     "output_type": "stream",
     "text": [
      "Enter first variable 2\n",
      "Enter first variable 3\n",
      "Variables before swapping 2 3\n",
      "Variables after swapping 3 2\n"
     ]
    }
   ],
   "source": [
    "a = input(\"Enter first variable \")\n",
    "b = input(\"Enter second variable \")\n",
    "\n",
    "print(\"Variables before swapping\",a,b)\n",
    "\n",
    "a,b=b,a\n",
    "\n",
    "print(\"Variables after swapping\",a,b)"
   ]
  },
  {
   "cell_type": "code",
   "execution_count": 18,
   "id": "ca17b143",
   "metadata": {},
   "outputs": [
    {
     "name": "stdout",
     "output_type": "stream",
     "text": [
      "Enter first number 2\n",
      "Enter second number 3\n",
      "Variables before swapping 2 3\n",
      "Variables after swapping 3 2\n"
     ]
    }
   ],
   "source": [
    "a = int(input(\"Enter first number \"))\n",
    "b = int(input(\"Enter second number \"))\n",
    "\n",
    "print(\"Variables before swapping\",a,b)\n",
    "\n",
    "a = a+b\n",
    "b = a-b\n",
    "a =a-b\n",
    "\n",
    "print(\"Variables after swapping\",a,b)"
   ]
  }
 ],
 "metadata": {
  "kernelspec": {
   "display_name": "Python 3 (ipykernel)",
   "language": "python",
   "name": "python3"
  },
  "language_info": {
   "codemirror_mode": {
    "name": "ipython",
    "version": 3
   },
   "file_extension": ".py",
   "mimetype": "text/x-python",
   "name": "python",
   "nbconvert_exporter": "python",
   "pygments_lexer": "ipython3",
   "version": "3.9.13"
  }
 },
 "nbformat": 4,
 "nbformat_minor": 5
}

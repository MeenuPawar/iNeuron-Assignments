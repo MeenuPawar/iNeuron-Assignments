{
 "cells": [
  {
   "cell_type": "markdown",
   "id": "4ac9602a",
   "metadata": {},
   "source": [
    "## Python Basic Programming Assignment - 5\n",
    "--------------\n"
   ]
  },
  {
   "cell_type": "markdown",
   "id": "fdaeee06",
   "metadata": {},
   "source": [
    "### 1. Write a Python Program to Find LCM?"
   ]
  },
  {
   "cell_type": "code",
   "execution_count": 14,
   "id": "94823ed1",
   "metadata": {},
   "outputs": [],
   "source": [
    "def compute_LCM(num1,num2):\n",
    "\n",
    "    if num1>num2:\n",
    "        greater=num1\n",
    "    else:\n",
    "        greater=num2\n",
    "        \n",
    "    while(True):\n",
    "        if(greater%num1==0) and (greater%num2==0):\n",
    "            lcm = greater\n",
    "            break\n",
    "        greater=greater+1\n",
    "    return lcm\n",
    "        \n"
   ]
  },
  {
   "cell_type": "code",
   "execution_count": 15,
   "id": "086c9f83",
   "metadata": {},
   "outputs": [
    {
     "data": {
      "text/plain": [
       "216"
      ]
     },
     "execution_count": 15,
     "metadata": {},
     "output_type": "execute_result"
    }
   ],
   "source": [
    "compute_LCM(54,24)"
   ]
  },
  {
   "cell_type": "markdown",
   "id": "2f459cdf",
   "metadata": {},
   "source": [
    "### 2. Write a Python Program to Find HCF?"
   ]
  },
  {
   "cell_type": "code",
   "execution_count": null,
   "id": "aac1d7f0",
   "metadata": {},
   "outputs": [],
   "source": []
  },
  {
   "cell_type": "code",
   "execution_count": 16,
   "id": "6ab25a61",
   "metadata": {},
   "outputs": [],
   "source": [
    "def compute_HCF(num1,num2):\n",
    "    if num1<num2:\n",
    "        smaller=num1\n",
    "    else:\n",
    "        smaller=num2\n",
    "    for i in range(1,smaller+1):\n",
    "        if(num1%i==0) and (num2%i==0):\n",
    "            hcf=i\n",
    "    print(\"HCF is: \",hcf)"
   ]
  },
  {
   "cell_type": "code",
   "execution_count": 18,
   "id": "1d85d17f",
   "metadata": {},
   "outputs": [
    {
     "name": "stdout",
     "output_type": "stream",
     "text": [
      "HCF is:  6\n"
     ]
    }
   ],
   "source": [
    "compute_HCF(54,24)"
   ]
  },
  {
   "cell_type": "markdown",
   "id": "d2c29370",
   "metadata": {},
   "source": [
    "### 3. Write a Python Program to Convert Decimal to Binary, Octal and Hexadecimal?"
   ]
  },
  {
   "cell_type": "code",
   "execution_count": 14,
   "id": "06e09988",
   "metadata": {},
   "outputs": [
    {
     "name": "stdout",
     "output_type": "stream",
     "text": [
      "Enter the number: 4\n",
      "The decimal value of 4 is 4\n",
      "0b100 in binary.\n",
      "0o4 in octal.\n",
      "0x4 in hexadecimal.\n"
     ]
    }
   ],
   "source": [
    "num= int(input(\"Enter the number: \"))\n",
    "\n",
    "print(\"The decimal value of {} is {}\".format(num,num))\n",
    "print(bin(num), \"in binary.\")\n",
    "print(oct(num), \"in octal.\")\n",
    "print(hex(num), \"in hexadecimal.\")"
   ]
  },
  {
   "cell_type": "markdown",
   "id": "2a16c5fd",
   "metadata": {},
   "source": [
    "### 4. Write a Python Program To Find ASCII value of a character?"
   ]
  },
  {
   "cell_type": "code",
   "execution_count": 4,
   "id": "7108deb6",
   "metadata": {},
   "outputs": [
    {
     "name": "stdout",
     "output_type": "stream",
     "text": [
      "Enter the character a\n",
      "ASCII value of a is 97\n"
     ]
    }
   ],
   "source": [
    "char = input(\"Enter the character \")\n",
    "\n",
    "ascii_value = ord(char)\n",
    "\n",
    "print(\"ASCII value of {} is {}\".format(char,ascii_value))"
   ]
  },
  {
   "cell_type": "markdown",
   "id": "226778a0",
   "metadata": {},
   "source": [
    "### 5. Write a Python Program to Make a Simple Calculator with 4 basic mathematical operations?"
   ]
  },
  {
   "cell_type": "code",
   "execution_count": 5,
   "id": "df5ad32a",
   "metadata": {},
   "outputs": [
    {
     "name": "stdout",
     "output_type": "stream",
     "text": [
      "Addition:  5\n"
     ]
    }
   ],
   "source": [
    "def calculator(a,b,operator):\n",
    "    if operator=='+':\n",
    "        print(\"Addition: \",a+b)\n",
    "    if operator=='-':\n",
    "        print(\"Subtraction: \",a-b)\n",
    "    if operator=='/':\n",
    "        print(\"division: \",a/b)\n",
    "    if operator=='*':\n",
    "        print(\"Multiplication: \",a*b)\n",
    "    if operator=='%':\n",
    "        print(\"Modulus: \",a%b)\n",
    "        \n",
    "calculator(2,3,'+')"
   ]
  },
  {
   "cell_type": "code",
   "execution_count": 6,
   "id": "1914e2bd",
   "metadata": {},
   "outputs": [
    {
     "name": "stdout",
     "output_type": "stream",
     "text": [
      "Subtraction:  -1\n"
     ]
    }
   ],
   "source": [
    "calculator(2,3,'-')"
   ]
  },
  {
   "cell_type": "code",
   "execution_count": 7,
   "id": "8125a091",
   "metadata": {},
   "outputs": [
    {
     "name": "stdout",
     "output_type": "stream",
     "text": [
      "division:  0.6666666666666666\n"
     ]
    }
   ],
   "source": [
    "calculator(2,3,'/')"
   ]
  },
  {
   "cell_type": "code",
   "execution_count": 8,
   "id": "b4dfa4ca",
   "metadata": {},
   "outputs": [
    {
     "name": "stdout",
     "output_type": "stream",
     "text": [
      "Multiplication:  6\n"
     ]
    }
   ],
   "source": [
    "calculator(2,3,'*')"
   ]
  },
  {
   "cell_type": "code",
   "execution_count": 10,
   "id": "83621ae0",
   "metadata": {},
   "outputs": [
    {
     "name": "stdout",
     "output_type": "stream",
     "text": [
      "Modulus:  1\n"
     ]
    }
   ],
   "source": [
    "calculator(4,3,'%')"
   ]
  },
  {
   "cell_type": "code",
   "execution_count": null,
   "id": "c88f4613",
   "metadata": {},
   "outputs": [],
   "source": []
  }
 ],
 "metadata": {
  "kernelspec": {
   "display_name": "Python 3 (ipykernel)",
   "language": "python",
   "name": "python3"
  },
  "language_info": {
   "codemirror_mode": {
    "name": "ipython",
    "version": 3
   },
   "file_extension": ".py",
   "mimetype": "text/x-python",
   "name": "python",
   "nbconvert_exporter": "python",
   "pygments_lexer": "ipython3",
   "version": "3.9.13"
  }
 },
 "nbformat": 4,
 "nbformat_minor": 5
}
